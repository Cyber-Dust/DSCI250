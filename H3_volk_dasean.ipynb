{
  "nbformat": 4,
  "nbformat_minor": 0,
  "metadata": {
    "colab": {
      "name": "H3_volk_dasean.ipynb",
      "provenance": [],
      "authorship_tag": "ABX9TyP1Dy403o0Z1KvOxVmygNts",
      "include_colab_link": true
    },
    "kernelspec": {
      "name": "python3",
      "display_name": "Python 3"
    },
    "language_info": {
      "name": "python"
    }
  },
  "cells": [
    {
      "cell_type": "markdown",
      "metadata": {
        "id": "view-in-github",
        "colab_type": "text"
      },
      "source": [
        "<a href=\"https://colab.research.google.com/github/Cyber-Dust/DSCI250/blob/main/H3_volk_dasean.ipynb\" target=\"_parent\"><img src=\"https://colab.research.google.com/assets/colab-badge.svg\" alt=\"Open In Colab\"/></a>"
      ]
    },
    {
      "cell_type": "markdown",
      "metadata": {
        "id": "4ppOLkR_WOA6"
      },
      "source": [
        "Dasean Volk, dvolk@usc.edu\n",
        "\n",
        "Fall 2021, DSCI 250\n",
        "\n",
        "Homework #3\n"
      ]
    },
    {
      "cell_type": "markdown",
      "metadata": {
        "id": "5b9lSnMm7jY3"
      },
      "source": [
        "Homework Notes\n",
        "Train the network so that is has weights that it calculates. As you train it should get closer and closer to 0. Do not feed it new data.\n",
        "The code already does the training. Do it with a calculator, do not wirte code. Show him the and, or, xor results. \n",
        "\n",
        "Q2: do it for the data we have, feed the 101 into the equation on a hand calculator."
      ]
    },
    {
      "cell_type": "code",
      "metadata": {
        "colab": {
          "base_uri": "https://localhost:8080/"
        },
        "id": "4t_WKg8vV_3p",
        "outputId": "099380af-6d29-4640-ac4f-d8ff3069271c"
      },
      "source": [
        "import numpy as np\n",
        "\n",
        "def sigmoid(x):\n",
        "    return 1.0/(1+ np.exp(-x))\n",
        "\n",
        "def sigmoid_derivative(x):\n",
        "    return x * (1.0 - x)\n",
        "\n",
        "class NeuralNetwork:\n",
        "    def __init__(self, x, y):\n",
        "        self.input      = x\n",
        "        self.weights1   = np.random.rand(self.input.shape[1],4) \n",
        "        self.weights2   = np.random.rand(4,1)                 \n",
        "        self.y          = y\n",
        "        self.output     = np.zeros(self.y.shape)\n",
        "\n",
        "    def feedforward(self):\n",
        "        self.layer1 = sigmoid(np.dot(self.input, self.weights1))\n",
        "        self.output = sigmoid(np.dot(self.layer1, self.weights2))\n",
        "\n",
        "    def backprop(self):\n",
        "        # application of the chain rule to find derivative of the loss function with respect to weights2 and weights1\n",
        "        d_weights2 = np.dot(self.layer1.T, (2*(self.y - self.output) * sigmoid_derivative(self.output)))\n",
        "        d_weights1 = np.dot(self.input.T,  (np.dot(2*(self.y - self.output) * sigmoid_derivative(self.output), self.weights2.T) * \n",
        "                                            sigmoid_derivative(self.layer1)))\n",
        "\n",
        "        # update the weights with the derivative (slope) of the loss function\n",
        "        self.weights1 += d_weights1\n",
        "        self.weights2 += d_weights2\n",
        "\n",
        "\n",
        "if __name__ == \"__main__\":\n",
        "    X = np.array([[0,0,1],\n",
        "                  [0,1,1],\n",
        "                  [1,0,1],\n",
        "                  [1,1,1]])\n",
        "    y = np.array([[0],[1],[1],[0]])\n",
        "    nn = NeuralNetwork(X,y)\n",
        "\n",
        "    for i in range(10000):\n",
        "        nn.feedforward()\n",
        "        nn.backprop()\n",
        "\n",
        "\n",
        "    print(nn.weights1)\n",
        "    print(nn.weights2)\n",
        "    print(nn.output)"
      ],
      "execution_count": null,
      "outputs": [
        {
          "output_type": "stream",
          "name": "stdout",
          "text": [
            "[[ 2.20159548  3.19227181  7.4402347   2.38699948]\n",
            " [-1.72709034  4.07388805  7.0283079   3.41523078]\n",
            " [ 2.11380999 -5.6280187  -3.35432516 -4.52686116]]\n",
            "[[-5.73167376]\n",
            " [-7.8338544 ]\n",
            " [12.03262855]\n",
            " [-6.64875403]]\n",
            "[[0.00810593]\n",
            " [0.9950759 ]\n",
            " [0.99220969]\n",
            " [0.00633841]]\n"
          ]
        }
      ]
    },
    {
      "cell_type": "code",
      "metadata": {
        "colab": {
          "base_uri": "https://localhost:8080/"
        },
        "id": "8K0dGouwO-rx",
        "outputId": "e0fadd94-abdf-4fc1-a707-235da6aa3ce5"
      },
      "source": [
        "import numpy as np\n",
        "\n",
        "def sigmoid(x):\n",
        "    return 1.0/(1+ np.exp(-x))\n",
        "\n",
        "def sigmoid_derivative(x):\n",
        "    return x * (1.0 - x)\n",
        "\n",
        "class NeuralNetwork:\n",
        "    def __init__(self, x, y):\n",
        "        self.input      = x\n",
        "        self.weights1   = np.random.rand(self.input.shape[1],4) \n",
        "        self.weights2   = np.random.rand(4,1)                 \n",
        "        self.y          = y\n",
        "        self.output     = np.zeros(self.y.shape)\n",
        "\n",
        "    def feedforward(self):\n",
        "        self.layer1 = sigmoid(np.dot(self.input, self.weights1))\n",
        "        self.output = sigmoid(np.dot(self.layer1, self.weights2))\n",
        "\n",
        "    def backprop(self):\n",
        "        # application of the chain rule to find derivative of the loss function with respect to weights2 and weights1\n",
        "        d_weights2 = np.dot(self.layer1.T, (2*(self.y - self.output) * sigmoid_derivative(self.output)))\n",
        "        d_weights1 = np.dot(self.input.T,  (np.dot(2*(self.y - self.output) * sigmoid_derivative(self.output), self.weights2.T) * \n",
        "                                            sigmoid_derivative(self.layer1)))\n",
        "\n",
        "        # update the weights with the derivative (slope) of the loss function\n",
        "        self.weights1 += d_weights1\n",
        "        self.weights2 += d_weights2\n",
        "\n",
        "\n",
        "if __name__ == \"__main__\":\n",
        "    X = np.array([[0,0,1],\n",
        "                  [0,1,1],\n",
        "                  [1,0,1],\n",
        "                  [1,1,1]])\n",
        "    y = np.array([[0],[1],[1],[0]])\n",
        "    nn = NeuralNetwork(X,y)\n",
        "\n",
        "    for i in range(100):\n",
        "        nn.feedforward()\n",
        "        nn.backprop()\n",
        "\n",
        "\n",
        "    print(nn.weights1)\n",
        "    print(nn.weights2)\n",
        "    print(nn.output)"
      ],
      "execution_count": 1,
      "outputs": [
        {
          "output_type": "stream",
          "name": "stdout",
          "text": [
            "[[0.99607199 0.02738465 1.23051106 0.39596209]\n",
            " [1.0167252  0.48993733 1.48950075 0.18381434]\n",
            " [0.45965679 0.53444755 0.34685532 0.32440784]]\n",
            "[[ 0.45988694]\n",
            " [-0.69412783]\n",
            " [ 0.85790304]\n",
            " [-0.84032354]]\n",
            "[[0.46594052]\n",
            " [0.51937062]\n",
            " [0.51848599]\n",
            " [0.53216301]]\n"
          ]
        }
      ]
    },
    {
      "cell_type": "code",
      "metadata": {
        "colab": {
          "base_uri": "https://localhost:8080/"
        },
        "id": "gH4Ipb0_PI2C",
        "outputId": "eb60ea95-17cf-4f32-9b9c-0a4dfcf95be8"
      },
      "source": [
        "import numpy as np\n",
        "\n",
        "def sigmoid(x):\n",
        "    return 1.0/(1+ np.exp(-x))\n",
        "\n",
        "def sigmoid_derivative(x):\n",
        "    return x * (1.0 - x)\n",
        "\n",
        "class NeuralNetwork:\n",
        "    def __init__(self, x, y):\n",
        "        self.input      = x\n",
        "        self.weights1   = np.random.rand(self.input.shape[1],4) \n",
        "        self.weights2   = np.random.rand(4,1)                 \n",
        "        self.y          = y\n",
        "        self.output     = np.zeros(self.y.shape)\n",
        "\n",
        "    def feedforward(self):\n",
        "        self.layer1 = sigmoid(np.dot(self.input, self.weights1))\n",
        "        self.output = sigmoid(np.dot(self.layer1, self.weights2))\n",
        "\n",
        "    def backprop(self):\n",
        "        # application of the chain rule to find derivative of the loss function with respect to weights2 and weights1\n",
        "        d_weights2 = np.dot(self.layer1.T, (2*(self.y - self.output) * sigmoid_derivative(self.output)))\n",
        "        d_weights1 = np.dot(self.input.T,  (np.dot(2*(self.y - self.output) * sigmoid_derivative(self.output), self.weights2.T) * \n",
        "                                            sigmoid_derivative(self.layer1)))\n",
        "\n",
        "        # update the weights with the derivative (slope) of the loss function\n",
        "        self.weights1 += d_weights1\n",
        "        self.weights2 += d_weights2\n",
        "\n",
        "\n",
        "if __name__ == \"__main__\":\n",
        "    X = np.array([[0,0,1],\n",
        "                  [0,1,1],\n",
        "                  [1,0,1],\n",
        "                  [1,1,1]])\n",
        "    y = np.array([[0],[1],[1],[0]])\n",
        "    nn = NeuralNetwork(X,y)\n",
        "\n",
        "    for i in range(500):\n",
        "        nn.feedforward()\n",
        "        nn.backprop()\n",
        "\n",
        "\n",
        "    print(nn.weights1)\n",
        "    print(nn.weights2)\n",
        "    print(nn.output)"
      ],
      "execution_count": 2,
      "outputs": [
        {
          "output_type": "stream",
          "name": "stdout",
          "text": [
            "[[-1.39910639  5.74470166 -0.75738444  5.42186206]\n",
            " [ 5.02693727 -4.02460786 -1.64702647  5.04163119]\n",
            " [-0.63907041  1.7230055   1.55966439 -1.48369424]]\n",
            "[[-5.5916205 ]\n",
            " [-6.21553215]\n",
            " [ 2.89984744]\n",
            " [ 7.81100782]]\n",
            "[[0.03346085]\n",
            " [0.94737574]\n",
            " [0.942966  ]\n",
            " [0.06519942]]\n"
          ]
        }
      ]
    },
    {
      "cell_type": "code",
      "metadata": {
        "colab": {
          "base_uri": "https://localhost:8080/"
        },
        "id": "8Y4z7xWnPM9-",
        "outputId": "79a38ea9-c905-4a20-b206-60606f918466"
      },
      "source": [
        "import numpy as np\n",
        "\n",
        "def sigmoid(x):\n",
        "    return 1.0/(1+ np.exp(-x))\n",
        "\n",
        "def sigmoid_derivative(x):\n",
        "    return x * (1.0 - x)\n",
        "\n",
        "class NeuralNetwork:\n",
        "    def __init__(self, x, y):\n",
        "        self.input      = x\n",
        "        self.weights1   = np.random.rand(self.input.shape[1],4) \n",
        "        self.weights2   = np.random.rand(4,1)                 \n",
        "        self.y          = y\n",
        "        self.output     = np.zeros(self.y.shape)\n",
        "\n",
        "    def feedforward(self):\n",
        "        self.layer1 = sigmoid(np.dot(self.input, self.weights1))\n",
        "        self.output = sigmoid(np.dot(self.layer1, self.weights2))\n",
        "\n",
        "    def backprop(self):\n",
        "        # application of the chain rule to find derivative of the loss function with respect to weights2 and weights1\n",
        "        d_weights2 = np.dot(self.layer1.T, (2*(self.y - self.output) * sigmoid_derivative(self.output)))\n",
        "        d_weights1 = np.dot(self.input.T,  (np.dot(2*(self.y - self.output) * sigmoid_derivative(self.output), self.weights2.T) * \n",
        "                                            sigmoid_derivative(self.layer1)))\n",
        "\n",
        "        # update the weights with the derivative (slope) of the loss function\n",
        "        self.weights1 += d_weights1\n",
        "        self.weights2 += d_weights2\n",
        "\n",
        "\n",
        "if __name__ == \"__main__\":\n",
        "    X = np.array([[0,0,1],\n",
        "                  [0,1,1],\n",
        "                  [1,0,1],\n",
        "                  [1,1,1]])\n",
        "    y = np.array([[0],[1],[1],[0]])\n",
        "    nn = NeuralNetwork(X,y)\n",
        "\n",
        "    for i in range(1000):\n",
        "        nn.feedforward()\n",
        "        nn.backprop()\n",
        "\n",
        "\n",
        "    print(nn.weights1)\n",
        "    print(nn.weights2)\n",
        "    print(nn.output)"
      ],
      "execution_count": 3,
      "outputs": [
        {
          "output_type": "stream",
          "name": "stdout",
          "text": [
            "[[ 3.20144537 -1.23926546  3.78290754  6.275262  ]\n",
            " [ 3.55933551  3.24659232 -1.84922749  6.07071399]\n",
            " [-5.16862946  0.08001477  0.66366956 -2.33984082]]\n",
            "[[-7.0798302 ]\n",
            " [-3.61687604]\n",
            " [-4.09859059]\n",
            " [ 9.46034533]]\n",
            "[[0.02200942]\n",
            " [0.97358772]\n",
            " [0.97053792]\n",
            " [0.03064005]]\n"
          ]
        }
      ]
    },
    {
      "cell_type": "code",
      "metadata": {
        "colab": {
          "base_uri": "https://localhost:8080/"
        },
        "id": "lP857R-WPQtg",
        "outputId": "4a484247-9e8c-4696-acb2-b4fcd8946cf8"
      },
      "source": [
        "import numpy as np\n",
        "\n",
        "def sigmoid(x):\n",
        "    return 1.0/(1+ np.exp(-x))\n",
        "\n",
        "def sigmoid_derivative(x):\n",
        "    return x * (1.0 - x)\n",
        "\n",
        "class NeuralNetwork:\n",
        "    def __init__(self, x, y):\n",
        "        self.input      = x\n",
        "        self.weights1   = np.random.rand(self.input.shape[1],4) \n",
        "        self.weights2   = np.random.rand(4,1)                 \n",
        "        self.y          = y\n",
        "        self.output     = np.zeros(self.y.shape)\n",
        "\n",
        "    def feedforward(self):\n",
        "        self.layer1 = sigmoid(np.dot(self.input, self.weights1))\n",
        "        self.output = sigmoid(np.dot(self.layer1, self.weights2))\n",
        "\n",
        "    def backprop(self):\n",
        "        # application of the chain rule to find derivative of the loss function with respect to weights2 and weights1\n",
        "        d_weights2 = np.dot(self.layer1.T, (2*(self.y - self.output) * sigmoid_derivative(self.output)))\n",
        "        d_weights1 = np.dot(self.input.T,  (np.dot(2*(self.y - self.output) * sigmoid_derivative(self.output), self.weights2.T) * \n",
        "                                            sigmoid_derivative(self.layer1)))\n",
        "\n",
        "        # update the weights with the derivative (slope) of the loss function\n",
        "        self.weights1 += d_weights1\n",
        "        self.weights2 += d_weights2\n",
        "\n",
        "\n",
        "if __name__ == \"__main__\":\n",
        "    X = np.array([[0,0,1],\n",
        "                  [0,1,1],\n",
        "                  [1,0,1],\n",
        "                  [1,1,1]])\n",
        "    y = np.array([[0],[1],[1],[0]])\n",
        "    nn = NeuralNetwork(X,y)\n",
        "\n",
        "    for i in range(5000):\n",
        "        nn.feedforward()\n",
        "        nn.backprop()\n",
        "\n",
        "\n",
        "    print(nn.weights1)\n",
        "    print(nn.weights2)\n",
        "    print(nn.output)"
      ],
      "execution_count": 4,
      "outputs": [
        {
          "output_type": "stream",
          "name": "stdout",
          "text": [
            "[[ 2.71636822  6.66596852 -2.10091574  6.12620313]\n",
            " [ 3.1803728  -4.15345929  6.08746039  5.88741158]\n",
            " [-4.50483771  1.3309134  -0.56782435 -1.54252027]]\n",
            "[[-5.33064966]\n",
            " [-6.52976033]\n",
            " [-6.09888559]\n",
            " [12.22158863]]\n",
            "[[0.00508537]\n",
            " [0.9890578 ]\n",
            " [0.98800445]\n",
            " [0.0127901 ]]\n"
          ]
        }
      ]
    },
    {
      "cell_type": "code",
      "metadata": {
        "colab": {
          "base_uri": "https://localhost:8080/"
        },
        "id": "q3vaYgsTPU4U",
        "outputId": "ed595c60-e67f-4856-e03f-84feffe84b07"
      },
      "source": [
        "import numpy as np\n",
        "\n",
        "def sigmoid(x):\n",
        "    return 1.0/(1+ np.exp(-x))\n",
        "\n",
        "def sigmoid_derivative(x):\n",
        "    return x * (1.0 - x)\n",
        "\n",
        "class NeuralNetwork:\n",
        "    def __init__(self, x, y):\n",
        "        self.input      = x\n",
        "        self.weights1   = np.random.rand(self.input.shape[1],4) \n",
        "        self.weights2   = np.random.rand(4,1)                 \n",
        "        self.y          = y\n",
        "        self.output     = np.zeros(self.y.shape)\n",
        "\n",
        "    def feedforward(self):\n",
        "        self.layer1 = sigmoid(np.dot(self.input, self.weights1))\n",
        "        self.output = sigmoid(np.dot(self.layer1, self.weights2))\n",
        "\n",
        "    def backprop(self):\n",
        "        # application of the chain rule to find derivative of the loss function with respect to weights2 and weights1\n",
        "        d_weights2 = np.dot(self.layer1.T, (2*(self.y - self.output) * sigmoid_derivative(self.output)))\n",
        "        d_weights1 = np.dot(self.input.T,  (np.dot(2*(self.y - self.output) * sigmoid_derivative(self.output), self.weights2.T) * \n",
        "                                            sigmoid_derivative(self.layer1)))\n",
        "\n",
        "        # update the weights with the derivative (slope) of the loss function\n",
        "        self.weights1 += d_weights1\n",
        "        self.weights2 += d_weights2\n",
        "\n",
        "\n",
        "if __name__ == \"__main__\":\n",
        "    X = np.array([[0,0,1],\n",
        "                  [0,1,1],\n",
        "                  [1,0,1],\n",
        "                  [1,1,1]])\n",
        "    y = np.array([[0],[1],[1],[0]])\n",
        "    nn = NeuralNetwork(X,y)\n",
        "\n",
        "    for i in range(20000):\n",
        "        nn.feedforward()\n",
        "        nn.backprop()\n",
        "\n",
        "\n",
        "    print(nn.weights1)\n",
        "    print(nn.weights2)\n",
        "    print(nn.output)"
      ],
      "execution_count": 5,
      "outputs": [
        {
          "output_type": "stream",
          "name": "stdout",
          "text": [
            "[[ 2.87635397  6.54211105 -4.28271481  7.07986902]\n",
            " [ 2.61958122  6.63501171  7.33099491 -2.20404494]\n",
            " [-4.20084521 -1.6782659   1.10362437 -0.95080619]]\n",
            "[[-4.71241442]\n",
            " [14.53998336]\n",
            " [-8.189897  ]\n",
            " [-7.95887559]]\n",
            "[[0.00212797]\n",
            " [0.99406368]\n",
            " [0.99434624]\n",
            " [0.00651417]]\n"
          ]
        }
      ]
    }
  ]
}